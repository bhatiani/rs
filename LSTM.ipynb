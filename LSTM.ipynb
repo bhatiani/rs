{
  "nbformat": 4,
  "nbformat_minor": 0,
  "metadata": {
    "colab": {
      "name": "Untitled0.ipynb",
      "provenance": [],
      "authorship_tag": "ABX9TyP9wRplAH5lNFpbKiRX8l84",
      "include_colab_link": true
    },
    "kernelspec": {
      "name": "python3",
      "display_name": "Python 3"
    },
    "language_info": {
      "name": "python"
    }
  },
  "cells": [
    {
      "cell_type": "markdown",
      "metadata": {
        "id": "view-in-github",
        "colab_type": "text"
      },
      "source": [
        "<a href=\"https://colab.research.google.com/github/bhatiani/rs/blob/master/LSTM.ipynb\" target=\"_parent\"><img src=\"https://colab.research.google.com/assets/colab-badge.svg\" alt=\"Open In Colab\"/></a>"
      ]
    },
    {
      "cell_type": "code",
      "source": [
        "from random import randint\n",
        "from numpy import array\n",
        "from numpy import argmax\n",
        "from keras.models import Sequential\n",
        "from keras.layers import LSTM\n",
        "from keras.layers import Dense\n",
        "\n",
        "# generate a sequence of random numbers in [0, n_features)\n",
        "def generate_sequence(length, n_features):\n",
        "\treturn [randint(0, n_features-1) for _ in range(length)]\n",
        "\n",
        "# one hot encode sequence\n",
        "def one_hot_encode(sequence, n_features):\n",
        "\tencoding = list()\n",
        "\tfor value in sequence:\n",
        "\t\tvector = [0 for _ in range(n_features)]\n",
        "\t\tvector[value] = 1\n",
        "\t\tencoding.append(vector)\n",
        "\treturn array(encoding)\n",
        " \n",
        "\n",
        "# decode a one hot encoded string\n",
        "def one_hot_decode(encoded_seq):\n",
        "\treturn [argmax(vector) for vector in encoded_seq]\n",
        "\n",
        "  "
      ],
      "metadata": {
        "id": "OJa7JuvyPs27"
      },
      "execution_count": 4,
      "outputs": []
    },
    {
      "cell_type": "code",
      "source": [
        "def generate_example(length, n_features, out_index):\n",
        "\t# generate sequence\n",
        "\tsequence = generate_sequence(length, n_features)\n",
        "\t# one hot encode\n",
        "\tencoded = one_hot_encode(sequence, n_features)\n",
        "\t# reshape sequence to be 3D\n",
        "\tX = encoded.reshape((1, length, n_features))\n",
        "\t# select output\n",
        "\ty = encoded[out_index].reshape(1, n_features)\n",
        "\treturn X, y"
      ],
      "metadata": {
        "id": "qJ_pIw--P3WK"
      },
      "execution_count": 5,
      "outputs": []
    },
    {
      "cell_type": "code",
      "source": [
        "length = 5\n",
        "n_features = 10\n",
        "out_index = 2\n",
        "model = Sequential()\n",
        "model.add(LSTM(25, input_shape=(length, n_features)))\n",
        "model.add(Dense(n_features, activation='softmax'))\n",
        "model.compile(loss='categorical_crossentropy', optimizer='adam', metrics=['accuracy'])\n",
        "model.summary()"
      ],
      "metadata": {
        "colab": {
          "base_uri": "https://localhost:8080/"
        },
        "id": "owJHkCBQP49m",
        "outputId": "9c371d5f-cfc3-486e-bc1c-075ebf0f7a69"
      },
      "execution_count": 6,
      "outputs": [
        {
          "output_type": "stream",
          "name": "stdout",
          "text": [
            "Model: \"sequential\"\n",
            "_________________________________________________________________\n",
            " Layer (type)                Output Shape              Param #   \n",
            "=================================================================\n",
            " lstm (LSTM)                 (None, 25)                3600      \n",
            "                                                                 \n",
            " dense (Dense)               (None, 10)                260       \n",
            "                                                                 \n",
            "=================================================================\n",
            "Total params: 3,860\n",
            "Trainable params: 3,860\n",
            "Non-trainable params: 0\n",
            "_________________________________________________________________\n"
          ]
        }
      ]
    },
    {
      "cell_type": "code",
      "source": [
        "# fit model\n",
        "for i in range(10000):\n",
        "\tX, y = generate_example(length, n_features, out_index)\n",
        "\tmodel.fit(X, y, epochs=1, verbose=2)"
      ],
      "metadata": {
        "id": "4m3NFb-QQCFm"
      },
      "execution_count": null,
      "outputs": []
    },
    {
      "cell_type": "code",
      "source": [
        "correct = 0\n",
        "for i in range(100):\n",
        "\tX, y = generate_example(length, n_features, out_index)\n",
        "\tyhat = model.predict(X)\n",
        "\tif one_hot_decode(yhat) == one_hot_decode(y):\n",
        "\t\tcorrect += 1\n",
        "print('Accuracy: %f' % ((correct/100.0)*100.0))"
      ],
      "metadata": {
        "colab": {
          "base_uri": "https://localhost:8080/"
        },
        "id": "MbMHuGAgkoKr",
        "outputId": "8964b7d3-3c33-47f7-961b-3f35c9fb0c80"
      },
      "execution_count": 8,
      "outputs": [
        {
          "output_type": "stream",
          "name": "stdout",
          "text": [
            "Accuracy: 100.000000\n"
          ]
        }
      ]
    },
    {
      "cell_type": "code",
      "source": [
        "X, y = generate_example(length, n_features, out_index)\n",
        "yhat = model.predict(X)\n",
        "print('Sequence:  %s' % [one_hot_decode(x) for x in X])\n",
        "print('Expected:  %s' % one_hot_decode(y))\n",
        "print('Predicted: %s' % one_hot_decode(yhat))"
      ],
      "metadata": {
        "colab": {
          "base_uri": "https://localhost:8080/"
        },
        "id": "vzlzBQsrkuS2",
        "outputId": "a557fa9e-4e40-4903-c369-1bee4751031e"
      },
      "execution_count": 10,
      "outputs": [
        {
          "output_type": "stream",
          "name": "stdout",
          "text": [
            "Sequence:  [[4, 4, 4, 0, 3]]\n",
            "Expected:  [4]\n",
            "Predicted: [4]\n"
          ]
        }
      ]
    },
    {
      "cell_type": "markdown",
      "source": [
        ""
      ],
      "metadata": {
        "id": "o2EMKEGPQAnG"
      }
    }
  ]
}